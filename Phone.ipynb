{
 "cells": [
  {
   "cell_type": "markdown",
   "id": "05382be6",
   "metadata": {},
   "source": [
    "# Section 1: Business understanding"
   ]
  },
  {
   "cell_type": "markdown",
   "id": "c2075f38",
   "metadata": {},
   "source": [
    "We want to find:\"How mobile phone pricing is formed?\"\n",
    "Key questions we wanted to answer:\n",
    "\n",
    "1. Have average prices for brands changed over the years?\n",
    "2. Can we predict price based only on inflation?\n",
    "3. Does the price depend on the features of the phone?\n",
    "4. Can We Predict Prices Using Machine Learning Techniques like RainForestRegression?\n"
   ]
  },
  {
   "cell_type": "markdown",
   "id": "6bcdfd8a",
   "metadata": {},
   "source": [
    "# Section 2: Data Understanding\n"
   ]
  },
  {
   "cell_type": "code",
   "execution_count": 683,
   "id": "b54bb0bb",
   "metadata": {},
   "outputs": [],
   "source": [
    "import pandas as pd \n",
    "import numpy as np\n",
    "import matplotlib.pyplot as plt\n",
    "import seaborn as sns\n",
    "from sklearn.model_selection import train_test_split\n",
    "from sklearn.metrics import accuracy_score, mean_squared_error\n",
    "from sklearn.ensemble import RandomForestRegressor\n",
    "\n"
   ]
  },
  {
   "cell_type": "markdown",
   "id": "1f25689b",
   "metadata": {},
   "source": [
    "Before diving in cleaning and transforamting data, let explore what we have.We have a Table with 22 columns:'phone_name','brand','os','inches','resolution','battery','battery_type','ram(GB)','announcement_date','weigh(g)','storage(GB)','video_720p','video_1080p','video_4K','video_8K','video_30fps','video_60fps','video_120fps','video_240fps','video_480fps','video_960fps','price(USD)'].We want to find if all these features have any influence on price."
   ]
  },
  {
   "cell_type": "markdown",
   "id": "1f73ec14",
   "metadata": {},
   "source": [
    "## Gather and Assess data\n"
   ]
  },
  {
   "cell_type": "code",
   "execution_count": 684,
   "id": "698a5872",
   "metadata": {},
   "outputs": [
    {
     "data": {
      "text/html": [
       "<div>\n",
       "<style scoped>\n",
       "    .dataframe tbody tr th:only-of-type {\n",
       "        vertical-align: middle;\n",
       "    }\n",
       "\n",
       "    .dataframe tbody tr th {\n",
       "        vertical-align: top;\n",
       "    }\n",
       "\n",
       "    .dataframe thead th {\n",
       "        text-align: right;\n",
       "    }\n",
       "</style>\n",
       "<table border=\"1\" class=\"dataframe\">\n",
       "  <thead>\n",
       "    <tr style=\"text-align: right;\">\n",
       "      <th></th>\n",
       "      <th>phone_name</th>\n",
       "      <th>brand</th>\n",
       "      <th>os</th>\n",
       "      <th>inches</th>\n",
       "      <th>resolution</th>\n",
       "      <th>battery</th>\n",
       "      <th>battery_type</th>\n",
       "      <th>ram(GB)</th>\n",
       "      <th>announcement_date</th>\n",
       "      <th>weight(g)</th>\n",
       "      <th>...</th>\n",
       "      <th>video_1080p</th>\n",
       "      <th>video_4K</th>\n",
       "      <th>video_8K</th>\n",
       "      <th>video_30fps</th>\n",
       "      <th>video_60fps</th>\n",
       "      <th>video_120fps</th>\n",
       "      <th>video_240fps</th>\n",
       "      <th>video_480fps</th>\n",
       "      <th>video_960fps</th>\n",
       "      <th>price(USD)</th>\n",
       "    </tr>\n",
       "  </thead>\n",
       "  <tbody>\n",
       "    <tr>\n",
       "      <th>0</th>\n",
       "      <td>Y6II Compact</td>\n",
       "      <td>Huawei</td>\n",
       "      <td>Android 5.1</td>\n",
       "      <td>5.0</td>\n",
       "      <td>720x1280</td>\n",
       "      <td>2200</td>\n",
       "      <td>Li-Po</td>\n",
       "      <td>2</td>\n",
       "      <td>2016-09-01</td>\n",
       "      <td>140.0</td>\n",
       "      <td>...</td>\n",
       "      <td>False</td>\n",
       "      <td>False</td>\n",
       "      <td>False</td>\n",
       "      <td>True</td>\n",
       "      <td>False</td>\n",
       "      <td>False</td>\n",
       "      <td>False</td>\n",
       "      <td>False</td>\n",
       "      <td>False</td>\n",
       "      <td>120.0</td>\n",
       "    </tr>\n",
       "    <tr>\n",
       "      <th>1</th>\n",
       "      <td>K20 plus</td>\n",
       "      <td>LG</td>\n",
       "      <td>Android 7.0</td>\n",
       "      <td>5.3</td>\n",
       "      <td>720x1280</td>\n",
       "      <td>2700</td>\n",
       "      <td>Li-Ion</td>\n",
       "      <td>2</td>\n",
       "      <td>2016-12-01</td>\n",
       "      <td>140.0</td>\n",
       "      <td>...</td>\n",
       "      <td>True</td>\n",
       "      <td>False</td>\n",
       "      <td>False</td>\n",
       "      <td>True</td>\n",
       "      <td>False</td>\n",
       "      <td>False</td>\n",
       "      <td>False</td>\n",
       "      <td>False</td>\n",
       "      <td>False</td>\n",
       "      <td>100.0</td>\n",
       "    </tr>\n",
       "    <tr>\n",
       "      <th>2</th>\n",
       "      <td>P8 Lite (2017)</td>\n",
       "      <td>Huawei</td>\n",
       "      <td>Android 7.0</td>\n",
       "      <td>5.2</td>\n",
       "      <td>1080x1920</td>\n",
       "      <td>3000</td>\n",
       "      <td>Li-Ion</td>\n",
       "      <td>4</td>\n",
       "      <td>2017-01-01</td>\n",
       "      <td>147.0</td>\n",
       "      <td>...</td>\n",
       "      <td>True</td>\n",
       "      <td>False</td>\n",
       "      <td>False</td>\n",
       "      <td>True</td>\n",
       "      <td>False</td>\n",
       "      <td>False</td>\n",
       "      <td>False</td>\n",
       "      <td>False</td>\n",
       "      <td>False</td>\n",
       "      <td>420.0</td>\n",
       "    </tr>\n",
       "    <tr>\n",
       "      <th>3</th>\n",
       "      <td>Redmi Note 4</td>\n",
       "      <td>Xiaomi</td>\n",
       "      <td>Android 6.0</td>\n",
       "      <td>5.5</td>\n",
       "      <td>1080x1920</td>\n",
       "      <td>4100</td>\n",
       "      <td>Li-Po</td>\n",
       "      <td>4</td>\n",
       "      <td>2017-01-01</td>\n",
       "      <td>165.0</td>\n",
       "      <td>...</td>\n",
       "      <td>True</td>\n",
       "      <td>False</td>\n",
       "      <td>False</td>\n",
       "      <td>True</td>\n",
       "      <td>False</td>\n",
       "      <td>True</td>\n",
       "      <td>False</td>\n",
       "      <td>False</td>\n",
       "      <td>False</td>\n",
       "      <td>150.0</td>\n",
       "    </tr>\n",
       "    <tr>\n",
       "      <th>4</th>\n",
       "      <td>P10</td>\n",
       "      <td>Huawei</td>\n",
       "      <td>Android 7.0</td>\n",
       "      <td>5.1</td>\n",
       "      <td>1080x1920</td>\n",
       "      <td>3200</td>\n",
       "      <td>Li-Ion</td>\n",
       "      <td>4</td>\n",
       "      <td>2017-02-01</td>\n",
       "      <td>145.0</td>\n",
       "      <td>...</td>\n",
       "      <td>True</td>\n",
       "      <td>True</td>\n",
       "      <td>False</td>\n",
       "      <td>True</td>\n",
       "      <td>True</td>\n",
       "      <td>False</td>\n",
       "      <td>False</td>\n",
       "      <td>False</td>\n",
       "      <td>False</td>\n",
       "      <td>420.0</td>\n",
       "    </tr>\n",
       "  </tbody>\n",
       "</table>\n",
       "<p>5 rows × 22 columns</p>\n",
       "</div>"
      ],
      "text/plain": [
       "       phone_name   brand           os  inches resolution  battery  \\\n",
       "0    Y6II Compact  Huawei  Android 5.1     5.0   720x1280     2200   \n",
       "1        K20 plus      LG  Android 7.0     5.3   720x1280     2700   \n",
       "2  P8 Lite (2017)  Huawei  Android 7.0     5.2  1080x1920     3000   \n",
       "3    Redmi Note 4  Xiaomi  Android 6.0     5.5  1080x1920     4100   \n",
       "4             P10  Huawei  Android 7.0     5.1  1080x1920     3200   \n",
       "\n",
       "  battery_type  ram(GB) announcement_date  weight(g)  ...  video_1080p  \\\n",
       "0        Li-Po        2        2016-09-01      140.0  ...        False   \n",
       "1       Li-Ion        2        2016-12-01      140.0  ...         True   \n",
       "2       Li-Ion        4        2017-01-01      147.0  ...         True   \n",
       "3        Li-Po        4        2017-01-01      165.0  ...         True   \n",
       "4       Li-Ion        4        2017-02-01      145.0  ...         True   \n",
       "\n",
       "   video_4K  video_8K  video_30fps  video_60fps  video_120fps  video_240fps  \\\n",
       "0     False     False         True        False         False         False   \n",
       "1     False     False         True        False         False         False   \n",
       "2     False     False         True        False         False         False   \n",
       "3     False     False         True        False          True         False   \n",
       "4      True     False         True         True         False         False   \n",
       "\n",
       "   video_480fps  video_960fps  price(USD)  \n",
       "0         False         False       120.0  \n",
       "1         False         False       100.0  \n",
       "2         False         False       420.0  \n",
       "3         False         False       150.0  \n",
       "4         False         False       420.0  \n",
       "\n",
       "[5 rows x 22 columns]"
      ]
     },
     "execution_count": 684,
     "metadata": {},
     "output_type": "execute_result"
    }
   ],
   "source": [
    "\n",
    "phone_base=pd.read_csv('/Users/reznichenkoanastasia/Downloads/cleaned_all_phones.csv')\n",
    "phone_base.head()\n"
   ]
  },
  {
   "cell_type": "markdown",
   "id": "559a9a8f",
   "metadata": {},
   "source": [
    "## Checking for missing values"
   ]
  },
  {
   "cell_type": "code",
   "execution_count": 685,
   "id": "94e26737",
   "metadata": {},
   "outputs": [
    {
     "data": {
      "text/plain": [
       "phone_name           0\n",
       "brand                0\n",
       "os                   0\n",
       "inches               0\n",
       "resolution           0\n",
       "battery              0\n",
       "battery_type         0\n",
       "ram(GB)              0\n",
       "announcement_date    0\n",
       "weight(g)            0\n",
       "storage(GB)          0\n",
       "video_720p           0\n",
       "video_1080p          0\n",
       "video_4K             0\n",
       "video_8K             0\n",
       "video_30fps          0\n",
       "video_60fps          0\n",
       "video_120fps         0\n",
       "video_240fps         0\n",
       "video_480fps         0\n",
       "video_960fps         0\n",
       "price(USD)           0\n",
       "dtype: int64"
      ]
     },
     "execution_count": 685,
     "metadata": {},
     "output_type": "execute_result"
    }
   ],
   "source": [
    "#checking for Nan values\n",
    "phone_base.isnull().sum()"
   ]
  },
  {
   "cell_type": "markdown",
   "id": "8bc03df3",
   "metadata": {},
   "source": [
    "## Data preparation and feature engineering"
   ]
  },
  {
   "cell_type": "markdown",
   "id": "0eb473c9",
   "metadata": {},
   "source": [
    "We have boolean columns for video types, so we want to comvert them to '0' and '1' to use them for our model"
   ]
  },
  {
   "cell_type": "code",
   "execution_count": 686,
   "id": "a2b2b020",
   "metadata": {},
   "outputs": [],
   "source": [
    "#converting boolean to 1 and 0\n",
    "for column in ['video_1080p', 'video_4K', 'video_8K', 'video_30fps', 'video_60fps', 'video_120fps', 'video_240fps', 'video_480fps', 'video_960fps']:\n",
    "    phone_base[column] = phone_base[column].astype(int)\n",
    "    "
   ]
  },
  {
   "cell_type": "code",
   "execution_count": 687,
   "id": "e4c41310",
   "metadata": {},
   "outputs": [
    {
     "data": {
      "text/html": [
       "<div>\n",
       "<style scoped>\n",
       "    .dataframe tbody tr th:only-of-type {\n",
       "        vertical-align: middle;\n",
       "    }\n",
       "\n",
       "    .dataframe tbody tr th {\n",
       "        vertical-align: top;\n",
       "    }\n",
       "\n",
       "    .dataframe thead th {\n",
       "        text-align: right;\n",
       "    }\n",
       "</style>\n",
       "<table border=\"1\" class=\"dataframe\">\n",
       "  <thead>\n",
       "    <tr style=\"text-align: right;\">\n",
       "      <th></th>\n",
       "      <th>phone_name</th>\n",
       "      <th>brand</th>\n",
       "      <th>os</th>\n",
       "      <th>inches</th>\n",
       "      <th>resolution</th>\n",
       "      <th>battery</th>\n",
       "      <th>battery_type</th>\n",
       "      <th>ram(GB)</th>\n",
       "      <th>announcement_date</th>\n",
       "      <th>weight(g)</th>\n",
       "      <th>...</th>\n",
       "      <th>video_1080p</th>\n",
       "      <th>video_4K</th>\n",
       "      <th>video_8K</th>\n",
       "      <th>video_30fps</th>\n",
       "      <th>video_60fps</th>\n",
       "      <th>video_120fps</th>\n",
       "      <th>video_240fps</th>\n",
       "      <th>video_480fps</th>\n",
       "      <th>video_960fps</th>\n",
       "      <th>price(USD)</th>\n",
       "    </tr>\n",
       "  </thead>\n",
       "  <tbody>\n",
       "    <tr>\n",
       "      <th>0</th>\n",
       "      <td>Y6II Compact</td>\n",
       "      <td>Huawei</td>\n",
       "      <td>Android 5.1</td>\n",
       "      <td>5.0</td>\n",
       "      <td>720x1280</td>\n",
       "      <td>2200</td>\n",
       "      <td>Li-Po</td>\n",
       "      <td>2</td>\n",
       "      <td>2016-09-01</td>\n",
       "      <td>140.0</td>\n",
       "      <td>...</td>\n",
       "      <td>0</td>\n",
       "      <td>0</td>\n",
       "      <td>0</td>\n",
       "      <td>1</td>\n",
       "      <td>0</td>\n",
       "      <td>0</td>\n",
       "      <td>0</td>\n",
       "      <td>0</td>\n",
       "      <td>0</td>\n",
       "      <td>120.0</td>\n",
       "    </tr>\n",
       "    <tr>\n",
       "      <th>1</th>\n",
       "      <td>K20 plus</td>\n",
       "      <td>LG</td>\n",
       "      <td>Android 7.0</td>\n",
       "      <td>5.3</td>\n",
       "      <td>720x1280</td>\n",
       "      <td>2700</td>\n",
       "      <td>Li-Ion</td>\n",
       "      <td>2</td>\n",
       "      <td>2016-12-01</td>\n",
       "      <td>140.0</td>\n",
       "      <td>...</td>\n",
       "      <td>1</td>\n",
       "      <td>0</td>\n",
       "      <td>0</td>\n",
       "      <td>1</td>\n",
       "      <td>0</td>\n",
       "      <td>0</td>\n",
       "      <td>0</td>\n",
       "      <td>0</td>\n",
       "      <td>0</td>\n",
       "      <td>100.0</td>\n",
       "    </tr>\n",
       "    <tr>\n",
       "      <th>2</th>\n",
       "      <td>P8 Lite (2017)</td>\n",
       "      <td>Huawei</td>\n",
       "      <td>Android 7.0</td>\n",
       "      <td>5.2</td>\n",
       "      <td>1080x1920</td>\n",
       "      <td>3000</td>\n",
       "      <td>Li-Ion</td>\n",
       "      <td>4</td>\n",
       "      <td>2017-01-01</td>\n",
       "      <td>147.0</td>\n",
       "      <td>...</td>\n",
       "      <td>1</td>\n",
       "      <td>0</td>\n",
       "      <td>0</td>\n",
       "      <td>1</td>\n",
       "      <td>0</td>\n",
       "      <td>0</td>\n",
       "      <td>0</td>\n",
       "      <td>0</td>\n",
       "      <td>0</td>\n",
       "      <td>420.0</td>\n",
       "    </tr>\n",
       "    <tr>\n",
       "      <th>3</th>\n",
       "      <td>Redmi Note 4</td>\n",
       "      <td>Xiaomi</td>\n",
       "      <td>Android 6.0</td>\n",
       "      <td>5.5</td>\n",
       "      <td>1080x1920</td>\n",
       "      <td>4100</td>\n",
       "      <td>Li-Po</td>\n",
       "      <td>4</td>\n",
       "      <td>2017-01-01</td>\n",
       "      <td>165.0</td>\n",
       "      <td>...</td>\n",
       "      <td>1</td>\n",
       "      <td>0</td>\n",
       "      <td>0</td>\n",
       "      <td>1</td>\n",
       "      <td>0</td>\n",
       "      <td>1</td>\n",
       "      <td>0</td>\n",
       "      <td>0</td>\n",
       "      <td>0</td>\n",
       "      <td>150.0</td>\n",
       "    </tr>\n",
       "    <tr>\n",
       "      <th>4</th>\n",
       "      <td>P10</td>\n",
       "      <td>Huawei</td>\n",
       "      <td>Android 7.0</td>\n",
       "      <td>5.1</td>\n",
       "      <td>1080x1920</td>\n",
       "      <td>3200</td>\n",
       "      <td>Li-Ion</td>\n",
       "      <td>4</td>\n",
       "      <td>2017-02-01</td>\n",
       "      <td>145.0</td>\n",
       "      <td>...</td>\n",
       "      <td>1</td>\n",
       "      <td>1</td>\n",
       "      <td>0</td>\n",
       "      <td>1</td>\n",
       "      <td>1</td>\n",
       "      <td>0</td>\n",
       "      <td>0</td>\n",
       "      <td>0</td>\n",
       "      <td>0</td>\n",
       "      <td>420.0</td>\n",
       "    </tr>\n",
       "  </tbody>\n",
       "</table>\n",
       "<p>5 rows × 22 columns</p>\n",
       "</div>"
      ],
      "text/plain": [
       "       phone_name   brand           os  inches resolution  battery  \\\n",
       "0    Y6II Compact  Huawei  Android 5.1     5.0   720x1280     2200   \n",
       "1        K20 plus      LG  Android 7.0     5.3   720x1280     2700   \n",
       "2  P8 Lite (2017)  Huawei  Android 7.0     5.2  1080x1920     3000   \n",
       "3    Redmi Note 4  Xiaomi  Android 6.0     5.5  1080x1920     4100   \n",
       "4             P10  Huawei  Android 7.0     5.1  1080x1920     3200   \n",
       "\n",
       "  battery_type  ram(GB) announcement_date  weight(g)  ...  video_1080p  \\\n",
       "0        Li-Po        2        2016-09-01      140.0  ...            0   \n",
       "1       Li-Ion        2        2016-12-01      140.0  ...            1   \n",
       "2       Li-Ion        4        2017-01-01      147.0  ...            1   \n",
       "3        Li-Po        4        2017-01-01      165.0  ...            1   \n",
       "4       Li-Ion        4        2017-02-01      145.0  ...            1   \n",
       "\n",
       "   video_4K  video_8K  video_30fps  video_60fps  video_120fps  video_240fps  \\\n",
       "0         0         0            1            0             0             0   \n",
       "1         0         0            1            0             0             0   \n",
       "2         0         0            1            0             0             0   \n",
       "3         0         0            1            0             1             0   \n",
       "4         1         0            1            1             0             0   \n",
       "\n",
       "   video_480fps  video_960fps  price(USD)  \n",
       "0             0             0       120.0  \n",
       "1             0             0       100.0  \n",
       "2             0             0       420.0  \n",
       "3             0             0       150.0  \n",
       "4             0             0       420.0  \n",
       "\n",
       "[5 rows x 22 columns]"
      ]
     },
     "execution_count": 687,
     "metadata": {},
     "output_type": "execute_result"
    }
   ],
   "source": [
    "#checking what we have after converting columns\n",
    "phone_base.head()"
   ]
  },
  {
   "cell_type": "markdown",
   "id": "8786410a",
   "metadata": {},
   "source": [
    "many people may not fully grasp the concept of resolution, but they are often more interested in a different specification - megapixels. By utilizing the \"resolution\" column, which provides both width and length information, we can calculate the number of megapixels a phone camera possesses."
   ]
  },
  {
   "cell_type": "code",
   "execution_count": 688,
   "id": "c9accb65",
   "metadata": {},
   "outputs": [],
   "source": [
    "#splitting width and length, to calculate megapixels by the formula\n",
    "phone_base[['w','l']]=phone_base['resolution'].str.split('x',expand=True)\n",
    "phone_base['megapixel']=pd.to_numeric(phone_base['w'])*pd.to_numeric(phone_base['l'])/1000000"
   ]
  },
  {
   "cell_type": "markdown",
   "id": "492a75e8",
   "metadata": {},
   "source": [
    "We are primarily concerned with the year of a phone's release rather than the specific month and date. To extract only the year information, we can convert the 'announcement_date' column to a date type and then extract the year component."
   ]
  },
  {
   "cell_type": "code",
   "execution_count": 689,
   "id": "5f4f8505",
   "metadata": {},
   "outputs": [],
   "source": [
    "#transforming 'announcement_date' column into date type\n",
    "phone_base['announcement_date']=pd.to_datetime(phone_base['announcement_date'])\n",
    "#extract year from column 'announcement_date'\n",
    "phone_base['year']=phone_base['announcement_date'].dt.year"
   ]
  },
  {
   "cell_type": "code",
   "execution_count": 690,
   "id": "4ce204ba",
   "metadata": {},
   "outputs": [
    {
     "data": {
      "text/html": [
       "<div>\n",
       "<style scoped>\n",
       "    .dataframe tbody tr th:only-of-type {\n",
       "        vertical-align: middle;\n",
       "    }\n",
       "\n",
       "    .dataframe tbody tr th {\n",
       "        vertical-align: top;\n",
       "    }\n",
       "\n",
       "    .dataframe thead th {\n",
       "        text-align: right;\n",
       "    }\n",
       "</style>\n",
       "<table border=\"1\" class=\"dataframe\">\n",
       "  <thead>\n",
       "    <tr style=\"text-align: right;\">\n",
       "      <th></th>\n",
       "      <th>phone_name</th>\n",
       "      <th>brand</th>\n",
       "      <th>os</th>\n",
       "      <th>inches</th>\n",
       "      <th>resolution</th>\n",
       "      <th>battery</th>\n",
       "      <th>battery_type</th>\n",
       "      <th>ram(GB)</th>\n",
       "      <th>announcement_date</th>\n",
       "      <th>weight(g)</th>\n",
       "      <th>...</th>\n",
       "      <th>video_60fps</th>\n",
       "      <th>video_120fps</th>\n",
       "      <th>video_240fps</th>\n",
       "      <th>video_480fps</th>\n",
       "      <th>video_960fps</th>\n",
       "      <th>price(USD)</th>\n",
       "      <th>w</th>\n",
       "      <th>l</th>\n",
       "      <th>megapixel</th>\n",
       "      <th>year</th>\n",
       "    </tr>\n",
       "  </thead>\n",
       "  <tbody>\n",
       "    <tr>\n",
       "      <th>0</th>\n",
       "      <td>Y6II Compact</td>\n",
       "      <td>Huawei</td>\n",
       "      <td>Android 5.1</td>\n",
       "      <td>5.0</td>\n",
       "      <td>720x1280</td>\n",
       "      <td>2200</td>\n",
       "      <td>Li-Po</td>\n",
       "      <td>2</td>\n",
       "      <td>2016-09-01</td>\n",
       "      <td>140.0</td>\n",
       "      <td>...</td>\n",
       "      <td>0</td>\n",
       "      <td>0</td>\n",
       "      <td>0</td>\n",
       "      <td>0</td>\n",
       "      <td>0</td>\n",
       "      <td>120.0</td>\n",
       "      <td>720</td>\n",
       "      <td>1280</td>\n",
       "      <td>0.9216</td>\n",
       "      <td>2016</td>\n",
       "    </tr>\n",
       "    <tr>\n",
       "      <th>1</th>\n",
       "      <td>K20 plus</td>\n",
       "      <td>LG</td>\n",
       "      <td>Android 7.0</td>\n",
       "      <td>5.3</td>\n",
       "      <td>720x1280</td>\n",
       "      <td>2700</td>\n",
       "      <td>Li-Ion</td>\n",
       "      <td>2</td>\n",
       "      <td>2016-12-01</td>\n",
       "      <td>140.0</td>\n",
       "      <td>...</td>\n",
       "      <td>0</td>\n",
       "      <td>0</td>\n",
       "      <td>0</td>\n",
       "      <td>0</td>\n",
       "      <td>0</td>\n",
       "      <td>100.0</td>\n",
       "      <td>720</td>\n",
       "      <td>1280</td>\n",
       "      <td>0.9216</td>\n",
       "      <td>2016</td>\n",
       "    </tr>\n",
       "    <tr>\n",
       "      <th>2</th>\n",
       "      <td>P8 Lite (2017)</td>\n",
       "      <td>Huawei</td>\n",
       "      <td>Android 7.0</td>\n",
       "      <td>5.2</td>\n",
       "      <td>1080x1920</td>\n",
       "      <td>3000</td>\n",
       "      <td>Li-Ion</td>\n",
       "      <td>4</td>\n",
       "      <td>2017-01-01</td>\n",
       "      <td>147.0</td>\n",
       "      <td>...</td>\n",
       "      <td>0</td>\n",
       "      <td>0</td>\n",
       "      <td>0</td>\n",
       "      <td>0</td>\n",
       "      <td>0</td>\n",
       "      <td>420.0</td>\n",
       "      <td>1080</td>\n",
       "      <td>1920</td>\n",
       "      <td>2.0736</td>\n",
       "      <td>2017</td>\n",
       "    </tr>\n",
       "    <tr>\n",
       "      <th>3</th>\n",
       "      <td>Redmi Note 4</td>\n",
       "      <td>Xiaomi</td>\n",
       "      <td>Android 6.0</td>\n",
       "      <td>5.5</td>\n",
       "      <td>1080x1920</td>\n",
       "      <td>4100</td>\n",
       "      <td>Li-Po</td>\n",
       "      <td>4</td>\n",
       "      <td>2017-01-01</td>\n",
       "      <td>165.0</td>\n",
       "      <td>...</td>\n",
       "      <td>0</td>\n",
       "      <td>1</td>\n",
       "      <td>0</td>\n",
       "      <td>0</td>\n",
       "      <td>0</td>\n",
       "      <td>150.0</td>\n",
       "      <td>1080</td>\n",
       "      <td>1920</td>\n",
       "      <td>2.0736</td>\n",
       "      <td>2017</td>\n",
       "    </tr>\n",
       "    <tr>\n",
       "      <th>4</th>\n",
       "      <td>P10</td>\n",
       "      <td>Huawei</td>\n",
       "      <td>Android 7.0</td>\n",
       "      <td>5.1</td>\n",
       "      <td>1080x1920</td>\n",
       "      <td>3200</td>\n",
       "      <td>Li-Ion</td>\n",
       "      <td>4</td>\n",
       "      <td>2017-02-01</td>\n",
       "      <td>145.0</td>\n",
       "      <td>...</td>\n",
       "      <td>1</td>\n",
       "      <td>0</td>\n",
       "      <td>0</td>\n",
       "      <td>0</td>\n",
       "      <td>0</td>\n",
       "      <td>420.0</td>\n",
       "      <td>1080</td>\n",
       "      <td>1920</td>\n",
       "      <td>2.0736</td>\n",
       "      <td>2017</td>\n",
       "    </tr>\n",
       "  </tbody>\n",
       "</table>\n",
       "<p>5 rows × 26 columns</p>\n",
       "</div>"
      ],
      "text/plain": [
       "       phone_name   brand           os  inches resolution  battery  \\\n",
       "0    Y6II Compact  Huawei  Android 5.1     5.0   720x1280     2200   \n",
       "1        K20 plus      LG  Android 7.0     5.3   720x1280     2700   \n",
       "2  P8 Lite (2017)  Huawei  Android 7.0     5.2  1080x1920     3000   \n",
       "3    Redmi Note 4  Xiaomi  Android 6.0     5.5  1080x1920     4100   \n",
       "4             P10  Huawei  Android 7.0     5.1  1080x1920     3200   \n",
       "\n",
       "  battery_type  ram(GB) announcement_date  weight(g)  ...  video_60fps  \\\n",
       "0        Li-Po        2        2016-09-01      140.0  ...            0   \n",
       "1       Li-Ion        2        2016-12-01      140.0  ...            0   \n",
       "2       Li-Ion        4        2017-01-01      147.0  ...            0   \n",
       "3        Li-Po        4        2017-01-01      165.0  ...            0   \n",
       "4       Li-Ion        4        2017-02-01      145.0  ...            1   \n",
       "\n",
       "   video_120fps  video_240fps  video_480fps  video_960fps  price(USD)     w  \\\n",
       "0             0             0             0             0       120.0   720   \n",
       "1             0             0             0             0       100.0   720   \n",
       "2             0             0             0             0       420.0  1080   \n",
       "3             1             0             0             0       150.0  1080   \n",
       "4             0             0             0             0       420.0  1080   \n",
       "\n",
       "      l  megapixel  year  \n",
       "0  1280     0.9216  2016  \n",
       "1  1280     0.9216  2016  \n",
       "2  1920     2.0736  2017  \n",
       "3  1920     2.0736  2017  \n",
       "4  1920     2.0736  2017  \n",
       "\n",
       "[5 rows x 26 columns]"
      ]
     },
     "execution_count": 690,
     "metadata": {},
     "output_type": "execute_result"
    }
   ],
   "source": [
    "#just to check that we have expected result\n",
    "phone_base.head()"
   ]
  },
  {
   "cell_type": "markdown",
   "id": "c62bc783",
   "metadata": {},
   "source": [
    "During the process of creating dummy variables for the operating system (OS), we observed a common misspelling in some model names. Specifically, the last letter 'd' in 'Android' was missing for certain models. We decided to fix this by replacing the incorrectly spelled names with the correct ones.\n",
    "\n",
    "\n",
    "\n",
    "\n"
   ]
  },
  {
   "cell_type": "code",
   "execution_count": 691,
   "id": "048f6bf4",
   "metadata": {},
   "outputs": [],
   "source": [
    "phone_base['os'] = phone_base['os'].replace('Androi', 'Android')\n"
   ]
  },
  {
   "cell_type": "markdown",
   "id": "3a255796",
   "metadata": {},
   "source": [
    "We are splitting the OS column into two parts: type and version. We know that newer versions of the operating system might cost a higher phone price. Therefore, this could be a valuable feature for our future predictive model."
   ]
  },
  {
   "cell_type": "code",
   "execution_count": 692,
   "id": "1731c3c6",
   "metadata": {},
   "outputs": [],
   "source": [
    "def extract_type(column):\n",
    "    '''\n",
    "    -input column\n",
    "    \n",
    "    splitting column os on two columns:os-type and os_model\n",
    "    \n",
    "    output: two new columns:os-type and os_model\n",
    "    '''\n",
    "    \n",
    "    for y,x in enumerate(column):\n",
    "        place=x.find(' ')\n",
    "        phone_base.loc[y,'os_type']= x[0:place]\n",
    "        phone_base.loc[y,'os_model']= x[place:]\n",
    "\n",
    "extract_type(phone_base['os'])"
   ]
  },
  {
   "cell_type": "code",
   "execution_count": 693,
   "id": "0c947538",
   "metadata": {},
   "outputs": [
    {
     "data": {
      "text/html": [
       "<div>\n",
       "<style scoped>\n",
       "    .dataframe tbody tr th:only-of-type {\n",
       "        vertical-align: middle;\n",
       "    }\n",
       "\n",
       "    .dataframe tbody tr th {\n",
       "        vertical-align: top;\n",
       "    }\n",
       "\n",
       "    .dataframe thead th {\n",
       "        text-align: right;\n",
       "    }\n",
       "</style>\n",
       "<table border=\"1\" class=\"dataframe\">\n",
       "  <thead>\n",
       "    <tr style=\"text-align: right;\">\n",
       "      <th></th>\n",
       "      <th>phone_name</th>\n",
       "      <th>brand</th>\n",
       "      <th>os</th>\n",
       "      <th>inches</th>\n",
       "      <th>resolution</th>\n",
       "      <th>battery</th>\n",
       "      <th>battery_type</th>\n",
       "      <th>ram(GB)</th>\n",
       "      <th>announcement_date</th>\n",
       "      <th>weight(g)</th>\n",
       "      <th>...</th>\n",
       "      <th>video_240fps</th>\n",
       "      <th>video_480fps</th>\n",
       "      <th>video_960fps</th>\n",
       "      <th>price(USD)</th>\n",
       "      <th>w</th>\n",
       "      <th>l</th>\n",
       "      <th>megapixel</th>\n",
       "      <th>year</th>\n",
       "      <th>os_type</th>\n",
       "      <th>os_model</th>\n",
       "    </tr>\n",
       "  </thead>\n",
       "  <tbody>\n",
       "    <tr>\n",
       "      <th>0</th>\n",
       "      <td>Y6II Compact</td>\n",
       "      <td>Huawei</td>\n",
       "      <td>Android 5.1</td>\n",
       "      <td>5.0</td>\n",
       "      <td>720x1280</td>\n",
       "      <td>2200</td>\n",
       "      <td>Li-Po</td>\n",
       "      <td>2</td>\n",
       "      <td>2016-09-01</td>\n",
       "      <td>140.0</td>\n",
       "      <td>...</td>\n",
       "      <td>0</td>\n",
       "      <td>0</td>\n",
       "      <td>0</td>\n",
       "      <td>120.0</td>\n",
       "      <td>720</td>\n",
       "      <td>1280</td>\n",
       "      <td>0.9216</td>\n",
       "      <td>2016</td>\n",
       "      <td>Android</td>\n",
       "      <td>5.1</td>\n",
       "    </tr>\n",
       "    <tr>\n",
       "      <th>1</th>\n",
       "      <td>K20 plus</td>\n",
       "      <td>LG</td>\n",
       "      <td>Android 7.0</td>\n",
       "      <td>5.3</td>\n",
       "      <td>720x1280</td>\n",
       "      <td>2700</td>\n",
       "      <td>Li-Ion</td>\n",
       "      <td>2</td>\n",
       "      <td>2016-12-01</td>\n",
       "      <td>140.0</td>\n",
       "      <td>...</td>\n",
       "      <td>0</td>\n",
       "      <td>0</td>\n",
       "      <td>0</td>\n",
       "      <td>100.0</td>\n",
       "      <td>720</td>\n",
       "      <td>1280</td>\n",
       "      <td>0.9216</td>\n",
       "      <td>2016</td>\n",
       "      <td>Android</td>\n",
       "      <td>7.0</td>\n",
       "    </tr>\n",
       "    <tr>\n",
       "      <th>2</th>\n",
       "      <td>P8 Lite (2017)</td>\n",
       "      <td>Huawei</td>\n",
       "      <td>Android 7.0</td>\n",
       "      <td>5.2</td>\n",
       "      <td>1080x1920</td>\n",
       "      <td>3000</td>\n",
       "      <td>Li-Ion</td>\n",
       "      <td>4</td>\n",
       "      <td>2017-01-01</td>\n",
       "      <td>147.0</td>\n",
       "      <td>...</td>\n",
       "      <td>0</td>\n",
       "      <td>0</td>\n",
       "      <td>0</td>\n",
       "      <td>420.0</td>\n",
       "      <td>1080</td>\n",
       "      <td>1920</td>\n",
       "      <td>2.0736</td>\n",
       "      <td>2017</td>\n",
       "      <td>Android</td>\n",
       "      <td>7.0</td>\n",
       "    </tr>\n",
       "    <tr>\n",
       "      <th>3</th>\n",
       "      <td>Redmi Note 4</td>\n",
       "      <td>Xiaomi</td>\n",
       "      <td>Android 6.0</td>\n",
       "      <td>5.5</td>\n",
       "      <td>1080x1920</td>\n",
       "      <td>4100</td>\n",
       "      <td>Li-Po</td>\n",
       "      <td>4</td>\n",
       "      <td>2017-01-01</td>\n",
       "      <td>165.0</td>\n",
       "      <td>...</td>\n",
       "      <td>0</td>\n",
       "      <td>0</td>\n",
       "      <td>0</td>\n",
       "      <td>150.0</td>\n",
       "      <td>1080</td>\n",
       "      <td>1920</td>\n",
       "      <td>2.0736</td>\n",
       "      <td>2017</td>\n",
       "      <td>Android</td>\n",
       "      <td>6.0</td>\n",
       "    </tr>\n",
       "    <tr>\n",
       "      <th>4</th>\n",
       "      <td>P10</td>\n",
       "      <td>Huawei</td>\n",
       "      <td>Android 7.0</td>\n",
       "      <td>5.1</td>\n",
       "      <td>1080x1920</td>\n",
       "      <td>3200</td>\n",
       "      <td>Li-Ion</td>\n",
       "      <td>4</td>\n",
       "      <td>2017-02-01</td>\n",
       "      <td>145.0</td>\n",
       "      <td>...</td>\n",
       "      <td>0</td>\n",
       "      <td>0</td>\n",
       "      <td>0</td>\n",
       "      <td>420.0</td>\n",
       "      <td>1080</td>\n",
       "      <td>1920</td>\n",
       "      <td>2.0736</td>\n",
       "      <td>2017</td>\n",
       "      <td>Android</td>\n",
       "      <td>7.0</td>\n",
       "    </tr>\n",
       "  </tbody>\n",
       "</table>\n",
       "<p>5 rows × 28 columns</p>\n",
       "</div>"
      ],
      "text/plain": [
       "       phone_name   brand           os  inches resolution  battery  \\\n",
       "0    Y6II Compact  Huawei  Android 5.1     5.0   720x1280     2200   \n",
       "1        K20 plus      LG  Android 7.0     5.3   720x1280     2700   \n",
       "2  P8 Lite (2017)  Huawei  Android 7.0     5.2  1080x1920     3000   \n",
       "3    Redmi Note 4  Xiaomi  Android 6.0     5.5  1080x1920     4100   \n",
       "4             P10  Huawei  Android 7.0     5.1  1080x1920     3200   \n",
       "\n",
       "  battery_type  ram(GB) announcement_date  weight(g)  ...  video_240fps  \\\n",
       "0        Li-Po        2        2016-09-01      140.0  ...             0   \n",
       "1       Li-Ion        2        2016-12-01      140.0  ...             0   \n",
       "2       Li-Ion        4        2017-01-01      147.0  ...             0   \n",
       "3        Li-Po        4        2017-01-01      165.0  ...             0   \n",
       "4       Li-Ion        4        2017-02-01      145.0  ...             0   \n",
       "\n",
       "   video_480fps  video_960fps  price(USD)     w     l  megapixel  year  \\\n",
       "0             0             0       120.0   720  1280     0.9216  2016   \n",
       "1             0             0       100.0   720  1280     0.9216  2016   \n",
       "2             0             0       420.0  1080  1920     2.0736  2017   \n",
       "3             0             0       150.0  1080  1920     2.0736  2017   \n",
       "4             0             0       420.0  1080  1920     2.0736  2017   \n",
       "\n",
       "   os_type  os_model  \n",
       "0  Android       5.1  \n",
       "1  Android       7.0  \n",
       "2  Android       7.0  \n",
       "3  Android       6.0  \n",
       "4  Android       7.0  \n",
       "\n",
       "[5 rows x 28 columns]"
      ]
     },
     "execution_count": 693,
     "metadata": {},
     "output_type": "execute_result"
    }
   ],
   "source": [
    "phone_base.head()"
   ]
  },
  {
   "cell_type": "code",
   "execution_count": 694,
   "id": "0abf7fd5",
   "metadata": {},
   "outputs": [],
   "source": [
    "#making dummies for os_type (using different methods)\n",
    "phone_base=phone_base.join(pd.get_dummies(phone_base['os_type']))\n",
    "\n",
    "#creating dummy variables for brand column\n",
    "def dummies(col):\n",
    "    if col==x:\n",
    "        return 1\n",
    "    else:\n",
    "        return 0\n",
    "    \n",
    "    \n",
    "    \n",
    "for x in list(phone_base['brand']):\n",
    "    phone_base[x]=phone_base['brand'].apply(dummies)\n",
    "    "
   ]
  },
  {
   "cell_type": "code",
   "execution_count": 695,
   "id": "39cb50bf",
   "metadata": {},
   "outputs": [],
   "source": [
    "#grouping by brand and year to great new table\n",
    "by_brand=round(phone_base.groupby(['brand','year'])['price(USD)'].mean())\n",
    "by_brand=by_brand.unstack(level=0)"
   ]
  },
  {
   "cell_type": "code",
   "execution_count": 696,
   "id": "42ea3a4a",
   "metadata": {},
   "outputs": [
    {
     "data": {
      "text/html": [
       "<div>\n",
       "<style scoped>\n",
       "    .dataframe tbody tr th:only-of-type {\n",
       "        vertical-align: middle;\n",
       "    }\n",
       "\n",
       "    .dataframe tbody tr th {\n",
       "        vertical-align: top;\n",
       "    }\n",
       "\n",
       "    .dataframe thead th {\n",
       "        text-align: right;\n",
       "    }\n",
       "</style>\n",
       "<table border=\"1\" class=\"dataframe\">\n",
       "  <thead>\n",
       "    <tr style=\"text-align: right;\">\n",
       "      <th>brand</th>\n",
       "      <th>Apple</th>\n",
       "      <th>Google</th>\n",
       "      <th>Honor</th>\n",
       "      <th>Huawei</th>\n",
       "      <th>LG</th>\n",
       "      <th>Lenovo</th>\n",
       "      <th>OnePlus</th>\n",
       "      <th>Oppo</th>\n",
       "      <th>Realme</th>\n",
       "      <th>Samsung</th>\n",
       "      <th>Sony</th>\n",
       "      <th>Vivo</th>\n",
       "      <th>Xiaomi</th>\n",
       "    </tr>\n",
       "    <tr>\n",
       "      <th>year</th>\n",
       "      <th></th>\n",
       "      <th></th>\n",
       "      <th></th>\n",
       "      <th></th>\n",
       "      <th></th>\n",
       "      <th></th>\n",
       "      <th></th>\n",
       "      <th></th>\n",
       "      <th></th>\n",
       "      <th></th>\n",
       "      <th></th>\n",
       "      <th></th>\n",
       "      <th></th>\n",
       "    </tr>\n",
       "  </thead>\n",
       "  <tbody>\n",
       "    <tr>\n",
       "      <th>2016</th>\n",
       "      <td>NaN</td>\n",
       "      <td>NaN</td>\n",
       "      <td>NaN</td>\n",
       "      <td>120.0</td>\n",
       "      <td>100.0</td>\n",
       "      <td>NaN</td>\n",
       "      <td>NaN</td>\n",
       "      <td>NaN</td>\n",
       "      <td>NaN</td>\n",
       "      <td>NaN</td>\n",
       "      <td>NaN</td>\n",
       "      <td>NaN</td>\n",
       "      <td>NaN</td>\n",
       "    </tr>\n",
       "    <tr>\n",
       "      <th>2017</th>\n",
       "      <td>245.0</td>\n",
       "      <td>565.0</td>\n",
       "      <td>190.0</td>\n",
       "      <td>247.0</td>\n",
       "      <td>160.0</td>\n",
       "      <td>190.0</td>\n",
       "      <td>NaN</td>\n",
       "      <td>279.0</td>\n",
       "      <td>NaN</td>\n",
       "      <td>279.0</td>\n",
       "      <td>213.0</td>\n",
       "      <td>NaN</td>\n",
       "      <td>189.0</td>\n",
       "    </tr>\n",
       "    <tr>\n",
       "      <th>2018</th>\n",
       "      <td>420.0</td>\n",
       "      <td>355.0</td>\n",
       "      <td>248.0</td>\n",
       "      <td>347.0</td>\n",
       "      <td>225.0</td>\n",
       "      <td>186.0</td>\n",
       "      <td>513.0</td>\n",
       "      <td>363.0</td>\n",
       "      <td>126.0</td>\n",
       "      <td>255.0</td>\n",
       "      <td>325.0</td>\n",
       "      <td>NaN</td>\n",
       "      <td>307.0</td>\n",
       "    </tr>\n",
       "    <tr>\n",
       "      <th>2019</th>\n",
       "      <td>441.0</td>\n",
       "      <td>282.0</td>\n",
       "      <td>268.0</td>\n",
       "      <td>443.0</td>\n",
       "      <td>255.0</td>\n",
       "      <td>239.0</td>\n",
       "      <td>646.0</td>\n",
       "      <td>352.0</td>\n",
       "      <td>223.0</td>\n",
       "      <td>394.0</td>\n",
       "      <td>414.0</td>\n",
       "      <td>NaN</td>\n",
       "      <td>316.0</td>\n",
       "    </tr>\n",
       "    <tr>\n",
       "      <th>2020</th>\n",
       "      <td>706.0</td>\n",
       "      <td>316.0</td>\n",
       "      <td>282.0</td>\n",
       "      <td>433.0</td>\n",
       "      <td>351.0</td>\n",
       "      <td>185.0</td>\n",
       "      <td>468.0</td>\n",
       "      <td>328.0</td>\n",
       "      <td>220.0</td>\n",
       "      <td>397.0</td>\n",
       "      <td>850.0</td>\n",
       "      <td>NaN</td>\n",
       "      <td>273.0</td>\n",
       "    </tr>\n",
       "  </tbody>\n",
       "</table>\n",
       "</div>"
      ],
      "text/plain": [
       "brand  Apple  Google  Honor  Huawei     LG  Lenovo  OnePlus   Oppo  Realme  \\\n",
       "year                                                                         \n",
       "2016     NaN     NaN    NaN   120.0  100.0     NaN      NaN    NaN     NaN   \n",
       "2017   245.0   565.0  190.0   247.0  160.0   190.0      NaN  279.0     NaN   \n",
       "2018   420.0   355.0  248.0   347.0  225.0   186.0    513.0  363.0   126.0   \n",
       "2019   441.0   282.0  268.0   443.0  255.0   239.0    646.0  352.0   223.0   \n",
       "2020   706.0   316.0  282.0   433.0  351.0   185.0    468.0  328.0   220.0   \n",
       "\n",
       "brand  Samsung   Sony  Vivo  Xiaomi  \n",
       "year                                 \n",
       "2016       NaN    NaN   NaN     NaN  \n",
       "2017     279.0  213.0   NaN   189.0  \n",
       "2018     255.0  325.0   NaN   307.0  \n",
       "2019     394.0  414.0   NaN   316.0  \n",
       "2020     397.0  850.0   NaN   273.0  "
      ]
     },
     "execution_count": 696,
     "metadata": {},
     "output_type": "execute_result"
    }
   ],
   "source": [
    "by_brand.head()"
   ]
  },
  {
   "cell_type": "markdown",
   "id": "e15efbf3",
   "metadata": {},
   "source": [
    "## Missing values in new table"
   ]
  },
  {
   "cell_type": "markdown",
   "id": "63d68036",
   "metadata": {},
   "source": [
    "There are two many missing values for 2016 year, so it makes sense just to drop this row.For all other missing values we are going to use forwardfill and backfill"
   ]
  },
  {
   "cell_type": "code",
   "execution_count": 701,
   "id": "3abe6db1",
   "metadata": {},
   "outputs": [
    {
     "ename": "KeyError",
     "evalue": "'[2016] not found in axis'",
     "output_type": "error",
     "traceback": [
      "\u001b[0;31m---------------------------------------------------------------------------\u001b[0m",
      "\u001b[0;31mKeyError\u001b[0m                                  Traceback (most recent call last)",
      "Input \u001b[0;32mIn [701]\u001b[0m, in \u001b[0;36m<cell line: 1>\u001b[0;34m()\u001b[0m\n\u001b[0;32m----> 1\u001b[0m \u001b[43mby_brand\u001b[49m\u001b[38;5;241;43m.\u001b[39;49m\u001b[43mdrop\u001b[49m\u001b[43m(\u001b[49m\u001b[43mindex\u001b[49m\u001b[38;5;241;43m=\u001b[39;49m\u001b[43m(\u001b[49m\u001b[38;5;241;43m2016\u001b[39;49m\u001b[43m)\u001b[49m\u001b[43m,\u001b[49m\u001b[43m \u001b[49m\u001b[43minplace\u001b[49m\u001b[38;5;241;43m=\u001b[39;49m\u001b[38;5;28;43;01mTrue\u001b[39;49;00m\u001b[43m)\u001b[49m\n",
      "File \u001b[0;32m~/opt/anaconda3/lib/python3.9/site-packages/pandas/util/_decorators.py:311\u001b[0m, in \u001b[0;36mdeprecate_nonkeyword_arguments.<locals>.decorate.<locals>.wrapper\u001b[0;34m(*args, **kwargs)\u001b[0m\n\u001b[1;32m    305\u001b[0m \u001b[38;5;28;01mif\u001b[39;00m \u001b[38;5;28mlen\u001b[39m(args) \u001b[38;5;241m>\u001b[39m num_allow_args:\n\u001b[1;32m    306\u001b[0m     warnings\u001b[38;5;241m.\u001b[39mwarn(\n\u001b[1;32m    307\u001b[0m         msg\u001b[38;5;241m.\u001b[39mformat(arguments\u001b[38;5;241m=\u001b[39marguments),\n\u001b[1;32m    308\u001b[0m         \u001b[38;5;167;01mFutureWarning\u001b[39;00m,\n\u001b[1;32m    309\u001b[0m         stacklevel\u001b[38;5;241m=\u001b[39mstacklevel,\n\u001b[1;32m    310\u001b[0m     )\n\u001b[0;32m--> 311\u001b[0m \u001b[38;5;28;01mreturn\u001b[39;00m \u001b[43mfunc\u001b[49m\u001b[43m(\u001b[49m\u001b[38;5;241;43m*\u001b[39;49m\u001b[43margs\u001b[49m\u001b[43m,\u001b[49m\u001b[43m \u001b[49m\u001b[38;5;241;43m*\u001b[39;49m\u001b[38;5;241;43m*\u001b[39;49m\u001b[43mkwargs\u001b[49m\u001b[43m)\u001b[49m\n",
      "File \u001b[0;32m~/opt/anaconda3/lib/python3.9/site-packages/pandas/core/frame.py:4954\u001b[0m, in \u001b[0;36mDataFrame.drop\u001b[0;34m(self, labels, axis, index, columns, level, inplace, errors)\u001b[0m\n\u001b[1;32m   4806\u001b[0m \u001b[38;5;129m@deprecate_nonkeyword_arguments\u001b[39m(version\u001b[38;5;241m=\u001b[39m\u001b[38;5;28;01mNone\u001b[39;00m, allowed_args\u001b[38;5;241m=\u001b[39m[\u001b[38;5;124m\"\u001b[39m\u001b[38;5;124mself\u001b[39m\u001b[38;5;124m\"\u001b[39m, \u001b[38;5;124m\"\u001b[39m\u001b[38;5;124mlabels\u001b[39m\u001b[38;5;124m\"\u001b[39m])\n\u001b[1;32m   4807\u001b[0m \u001b[38;5;28;01mdef\u001b[39;00m \u001b[38;5;21mdrop\u001b[39m(\n\u001b[1;32m   4808\u001b[0m     \u001b[38;5;28mself\u001b[39m,\n\u001b[0;32m   (...)\u001b[0m\n\u001b[1;32m   4815\u001b[0m     errors: \u001b[38;5;28mstr\u001b[39m \u001b[38;5;241m=\u001b[39m \u001b[38;5;124m\"\u001b[39m\u001b[38;5;124mraise\u001b[39m\u001b[38;5;124m\"\u001b[39m,\n\u001b[1;32m   4816\u001b[0m ):\n\u001b[1;32m   4817\u001b[0m     \u001b[38;5;124;03m\"\"\"\u001b[39;00m\n\u001b[1;32m   4818\u001b[0m \u001b[38;5;124;03m    Drop specified labels from rows or columns.\u001b[39;00m\n\u001b[1;32m   4819\u001b[0m \n\u001b[0;32m   (...)\u001b[0m\n\u001b[1;32m   4952\u001b[0m \u001b[38;5;124;03m            weight  1.0     0.8\u001b[39;00m\n\u001b[1;32m   4953\u001b[0m \u001b[38;5;124;03m    \"\"\"\u001b[39;00m\n\u001b[0;32m-> 4954\u001b[0m     \u001b[38;5;28;01mreturn\u001b[39;00m \u001b[38;5;28;43msuper\u001b[39;49m\u001b[43m(\u001b[49m\u001b[43m)\u001b[49m\u001b[38;5;241;43m.\u001b[39;49m\u001b[43mdrop\u001b[49m\u001b[43m(\u001b[49m\n\u001b[1;32m   4955\u001b[0m \u001b[43m        \u001b[49m\u001b[43mlabels\u001b[49m\u001b[38;5;241;43m=\u001b[39;49m\u001b[43mlabels\u001b[49m\u001b[43m,\u001b[49m\n\u001b[1;32m   4956\u001b[0m \u001b[43m        \u001b[49m\u001b[43maxis\u001b[49m\u001b[38;5;241;43m=\u001b[39;49m\u001b[43maxis\u001b[49m\u001b[43m,\u001b[49m\n\u001b[1;32m   4957\u001b[0m \u001b[43m        \u001b[49m\u001b[43mindex\u001b[49m\u001b[38;5;241;43m=\u001b[39;49m\u001b[43mindex\u001b[49m\u001b[43m,\u001b[49m\n\u001b[1;32m   4958\u001b[0m \u001b[43m        \u001b[49m\u001b[43mcolumns\u001b[49m\u001b[38;5;241;43m=\u001b[39;49m\u001b[43mcolumns\u001b[49m\u001b[43m,\u001b[49m\n\u001b[1;32m   4959\u001b[0m \u001b[43m        \u001b[49m\u001b[43mlevel\u001b[49m\u001b[38;5;241;43m=\u001b[39;49m\u001b[43mlevel\u001b[49m\u001b[43m,\u001b[49m\n\u001b[1;32m   4960\u001b[0m \u001b[43m        \u001b[49m\u001b[43minplace\u001b[49m\u001b[38;5;241;43m=\u001b[39;49m\u001b[43minplace\u001b[49m\u001b[43m,\u001b[49m\n\u001b[1;32m   4961\u001b[0m \u001b[43m        \u001b[49m\u001b[43merrors\u001b[49m\u001b[38;5;241;43m=\u001b[39;49m\u001b[43merrors\u001b[49m\u001b[43m,\u001b[49m\n\u001b[1;32m   4962\u001b[0m \u001b[43m    \u001b[49m\u001b[43m)\u001b[49m\n",
      "File \u001b[0;32m~/opt/anaconda3/lib/python3.9/site-packages/pandas/core/generic.py:4267\u001b[0m, in \u001b[0;36mNDFrame.drop\u001b[0;34m(self, labels, axis, index, columns, level, inplace, errors)\u001b[0m\n\u001b[1;32m   4265\u001b[0m \u001b[38;5;28;01mfor\u001b[39;00m axis, labels \u001b[38;5;129;01min\u001b[39;00m axes\u001b[38;5;241m.\u001b[39mitems():\n\u001b[1;32m   4266\u001b[0m     \u001b[38;5;28;01mif\u001b[39;00m labels \u001b[38;5;129;01mis\u001b[39;00m \u001b[38;5;129;01mnot\u001b[39;00m \u001b[38;5;28;01mNone\u001b[39;00m:\n\u001b[0;32m-> 4267\u001b[0m         obj \u001b[38;5;241m=\u001b[39m \u001b[43mobj\u001b[49m\u001b[38;5;241;43m.\u001b[39;49m\u001b[43m_drop_axis\u001b[49m\u001b[43m(\u001b[49m\u001b[43mlabels\u001b[49m\u001b[43m,\u001b[49m\u001b[43m \u001b[49m\u001b[43maxis\u001b[49m\u001b[43m,\u001b[49m\u001b[43m \u001b[49m\u001b[43mlevel\u001b[49m\u001b[38;5;241;43m=\u001b[39;49m\u001b[43mlevel\u001b[49m\u001b[43m,\u001b[49m\u001b[43m \u001b[49m\u001b[43merrors\u001b[49m\u001b[38;5;241;43m=\u001b[39;49m\u001b[43merrors\u001b[49m\u001b[43m)\u001b[49m\n\u001b[1;32m   4269\u001b[0m \u001b[38;5;28;01mif\u001b[39;00m inplace:\n\u001b[1;32m   4270\u001b[0m     \u001b[38;5;28mself\u001b[39m\u001b[38;5;241m.\u001b[39m_update_inplace(obj)\n",
      "File \u001b[0;32m~/opt/anaconda3/lib/python3.9/site-packages/pandas/core/generic.py:4311\u001b[0m, in \u001b[0;36mNDFrame._drop_axis\u001b[0;34m(self, labels, axis, level, errors, consolidate, only_slice)\u001b[0m\n\u001b[1;32m   4309\u001b[0m         new_axis \u001b[38;5;241m=\u001b[39m axis\u001b[38;5;241m.\u001b[39mdrop(labels, level\u001b[38;5;241m=\u001b[39mlevel, errors\u001b[38;5;241m=\u001b[39merrors)\n\u001b[1;32m   4310\u001b[0m     \u001b[38;5;28;01melse\u001b[39;00m:\n\u001b[0;32m-> 4311\u001b[0m         new_axis \u001b[38;5;241m=\u001b[39m \u001b[43maxis\u001b[49m\u001b[38;5;241;43m.\u001b[39;49m\u001b[43mdrop\u001b[49m\u001b[43m(\u001b[49m\u001b[43mlabels\u001b[49m\u001b[43m,\u001b[49m\u001b[43m \u001b[49m\u001b[43merrors\u001b[49m\u001b[38;5;241;43m=\u001b[39;49m\u001b[43merrors\u001b[49m\u001b[43m)\u001b[49m\n\u001b[1;32m   4312\u001b[0m     indexer \u001b[38;5;241m=\u001b[39m axis\u001b[38;5;241m.\u001b[39mget_indexer(new_axis)\n\u001b[1;32m   4314\u001b[0m \u001b[38;5;66;03m# Case for non-unique axis\u001b[39;00m\n\u001b[1;32m   4315\u001b[0m \u001b[38;5;28;01melse\u001b[39;00m:\n",
      "File \u001b[0;32m~/opt/anaconda3/lib/python3.9/site-packages/pandas/core/indexes/base.py:6644\u001b[0m, in \u001b[0;36mIndex.drop\u001b[0;34m(self, labels, errors)\u001b[0m\n\u001b[1;32m   6642\u001b[0m \u001b[38;5;28;01mif\u001b[39;00m mask\u001b[38;5;241m.\u001b[39many():\n\u001b[1;32m   6643\u001b[0m     \u001b[38;5;28;01mif\u001b[39;00m errors \u001b[38;5;241m!=\u001b[39m \u001b[38;5;124m\"\u001b[39m\u001b[38;5;124mignore\u001b[39m\u001b[38;5;124m\"\u001b[39m:\n\u001b[0;32m-> 6644\u001b[0m         \u001b[38;5;28;01mraise\u001b[39;00m \u001b[38;5;167;01mKeyError\u001b[39;00m(\u001b[38;5;124mf\u001b[39m\u001b[38;5;124m\"\u001b[39m\u001b[38;5;132;01m{\u001b[39;00m\u001b[38;5;28mlist\u001b[39m(labels[mask])\u001b[38;5;132;01m}\u001b[39;00m\u001b[38;5;124m not found in axis\u001b[39m\u001b[38;5;124m\"\u001b[39m)\n\u001b[1;32m   6645\u001b[0m     indexer \u001b[38;5;241m=\u001b[39m indexer[\u001b[38;5;241m~\u001b[39mmask]\n\u001b[1;32m   6646\u001b[0m \u001b[38;5;28;01mreturn\u001b[39;00m \u001b[38;5;28mself\u001b[39m\u001b[38;5;241m.\u001b[39mdelete(indexer)\n",
      "\u001b[0;31mKeyError\u001b[0m: '[2016] not found in axis'"
     ]
    }
   ],
   "source": [
    "by_brand.drop(index=(2016), inplace=True)"
   ]
  },
  {
   "cell_type": "code",
   "execution_count": 702,
   "id": "a7cfead8",
   "metadata": {},
   "outputs": [],
   "source": [
    "#filling missing values\n",
    "def fill_col(col):\n",
    "    \n",
    "    #  fill NaN values  with front values\n",
    "    by_brand[col].fillna(method='ffill', inplace=True)\n",
    "\n",
    "   # Backward fill NaN values  row across columns\n",
    "    by_brand[col].fillna(method='bfill', inplace=True)\n",
    "\n",
    "for x in by_brand.columns:\n",
    "    fill_col(x)\n",
    "    \n",
    "    "
   ]
  },
  {
   "cell_type": "markdown",
   "id": "56d16d7c",
   "metadata": {},
   "source": [
    "# Section 3:  Evaluate the results\n"
   ]
  },
  {
   "cell_type": "markdown",
   "id": "7fe1344a",
   "metadata": {},
   "source": [
    "### 1. Have average prices for brands changed over the years?\n"
   ]
  },
  {
   "cell_type": "markdown",
   "id": "fa8579c1",
   "metadata": {},
   "source": [
    "We are visualizing the data to observe price changes by year for different brands."
   ]
  },
  {
   "cell_type": "code",
   "execution_count": 703,
   "id": "17dba0a4",
   "metadata": {},
   "outputs": [
    {
     "data": {
      "image/png": "[encoded data removed]",
      "text/plain": [
       "<Figure size 864x432 with 1 Axes>"
      ]
     },
     "metadata": {
      "needs_background": "light"
     },
     "output_type": "display_data"
    }
   ],
   "source": [
    "\n",
    "# Create a line plot\n",
    "plt.figure(figsize=(12, 6))\n",
    "\n",
    "for x in by_brand.columns:\n",
    "    plt.plot(by_brand.index, by_brand[x], marker='o', label=x)\n",
    "    \n",
    "plt.xlabel('Year')\n",
    "plt.ylabel('Average Cost')\n",
    "plt.title('Average  Cost by Brand and Year')\n",
    "plt.legend()\n",
    "plt.grid(True)\n",
    "plt.tight_layout()\n",
    "\n",
    "# Show the plot\n",
    "plt.show()\n",
    "    "
   ]
  },
  {
   "cell_type": "markdown",
   "id": "eddefc69",
   "metadata": {},
   "source": [
    "We have a large number of smartphone brands in our dataset, which can make the analysis noisy and complex. To simplify our analysis and better understand the trends, we have decided to narrow our focus to the top 3 brands. "
   ]
  },
  {
   "cell_type": "code",
   "execution_count": 704,
   "id": "09d27438",
   "metadata": {},
   "outputs": [
    {
     "data": {
      "image/png": "[encoded data removed]",
      "text/plain": [
       "<Figure size 864x432 with 1 Axes>"
      ]
     },
     "metadata": {
      "needs_background": "light"
     },
     "output_type": "display_data"
    }
   ],
   "source": [
    "# Create a line plot\n",
    "plt.figure(figsize=(12, 6))\n",
    "\n",
    "for x in by_brand[['Apple','Samsung','Xiaomi','Google','Sony']]:\n",
    "    plt.plot(by_brand.index, by_brand[x], marker='o', label=x)\n",
    "    \n",
    "plt.xlabel('Year')\n",
    "plt.ylabel('Average Cost')\n",
    "plt.title('Average  Cost by Brand and Year')\n",
    "plt.legend()\n",
    "plt.grid(True)\n",
    "plt.tight_layout()\n",
    "\n",
    "# Show the plot\n",
    "plt.show()\n",
    "    "
   ]
  },
  {
   "cell_type": "markdown",
   "id": "6b72911f",
   "metadata": {},
   "source": [
    "We want to find the inflation from 2017 to 2023.we used open source Banks' data."
   ]
  },
  {
   "cell_type": "markdown",
   "id": "ebe8e4e0",
   "metadata": {},
   "source": [
    "### And the answer is definitely 'yes.' Prices have significantly increased for some brands over the years."
   ]
  },
  {
   "cell_type": "markdown",
   "id": "de588f87",
   "metadata": {},
   "source": [
    "### 2. Can we predict price based only on inflation?\n"
   ]
  },
  {
   "cell_type": "code",
   "execution_count": 705,
   "id": "ccc01fd1",
   "metadata": {},
   "outputs": [],
   "source": [
    "#creating DateFRAME based on open source \n",
    "inflation=pd.DataFrame({'year':[2017,2018,2019,2020,2021,2022,2023],'inflation':[1,1.02,1.04,1.06,1.11,1.19,1.25]})"
   ]
  },
  {
   "cell_type": "code",
   "execution_count": 706,
   "id": "1bec5f7a",
   "metadata": {},
   "outputs": [
    {
     "name": "stderr",
     "output_type": "stream",
     "text": [
      "No artists with labels found to put in legend.  Note that artists whose label start with an underscore are ignored when legend() is called with no argument.\n"
     ]
    },
    {
     "data": {
      "image/png": "[encoded data removed]",
      "text/plain": [
       "<Figure size 432x288 with 1 Axes>"
      ]
     },
     "metadata": {
      "needs_background": "light"
     },
     "output_type": "display_data"
    }
   ],
   "source": [
    "plt.plot(inflation['year'], inflation['inflation'], marker='o')\n",
    "    \n",
    "plt.xlabel('Year')\n",
    "plt.ylabel('Inflation')\n",
    "plt.title('$1 equivalent by year ')\n",
    "plt.legend()\n",
    "plt.grid(True)\n",
    "plt.tight_layout()\n",
    "\n",
    "# Show the plot\n",
    "plt.show()"
   ]
  },
  {
   "cell_type": "code",
   "execution_count": 707,
   "id": "f258813f",
   "metadata": {},
   "outputs": [],
   "source": [
    "#Counting inflation rate from 2017 to 2023\n",
    "\n",
    "inf_rate=(1+25.26/100)\n"
   ]
  },
  {
   "cell_type": "code",
   "execution_count": 708,
   "id": "b6042343",
   "metadata": {},
   "outputs": [],
   "source": [
    "#calculating 2017 prices counting the inflation\n",
    "compare=pd.DataFrame()\n",
    "compare['2023_inf_2017']=by_brand.loc[2017]*inf_rate\n",
    "compare['2023_real_price']=by_brand.loc[2023]"
   ]
  },
  {
   "cell_type": "markdown",
   "id": "9b9ce57e",
   "metadata": {},
   "source": [
    "We want to create a visualization that allows us to compare the actual prices of smartphones in 2023 with the prices they would have been in 2017, adjusted for inflation. "
   ]
  },
  {
   "cell_type": "code",
   "execution_count": 709,
   "id": "f3808b85",
   "metadata": {},
   "outputs": [
    {
     "data": {
      "image/png": "[encoded data removed]",
      "text/plain": [
       "<Figure size 720x432 with 1 Axes>"
      ]
     },
     "metadata": {
      "needs_background": "light"
     },
     "output_type": "display_data"
    }
   ],
   "source": [
    "# Create bar chart\n",
    "plt.figure(figsize=(10, 6))\n",
    "plt.barh(compare.index, compare['2023_inf_2017'] , color='skyblue', label='2023_inf_2017')\n",
    "plt.barh(compare.index, compare['2023_real_price'], color='lightcoral', label='2023_real_price', left=compare['2023_inf_2017'])\n",
    "\n",
    "# Customize the chart\n",
    "plt.xlabel('Values')\n",
    "plt.title('2023 Inflation (2017) vs. Real Price')\n",
    "plt.legend()\n",
    "plt.gca().invert_yaxis()  # Invert the y-axis to have the top brand at the top\n",
    "\n",
    "# Show the chart\n",
    "plt.show()"
   ]
  },
  {
   "cell_type": "markdown",
   "id": "68b537f4",
   "metadata": {},
   "source": [
    "### Not really. As we can notice, the real price is much higher than the price of 2017 when accounting for inflation."
   ]
  },
  {
   "cell_type": "markdown",
   "id": "75e4284e",
   "metadata": {},
   "source": [
    "### 3. Does price depand on features of the phone?\n"
   ]
  },
  {
   "cell_type": "markdown",
   "id": "53764238",
   "metadata": {},
   "source": [
    "Next step is to find what features create the price.We build correlation matrix to find linear correlation between price and other features"
   ]
  },
  {
   "cell_type": "code",
   "execution_count": 710,
   "id": "32a2a740",
   "metadata": {},
   "outputs": [
    {
     "name": "stdout",
     "output_type": "stream",
     "text": [
      "price(USD) 1.0\n",
      "megapixel 0.3532922851813108\n"
     ]
    }
   ],
   "source": [
    "correlation_matrix = phone_base[['price(USD)','inches','battery','ram(GB)','video_240fps','video_480fps','video_960fps','year','megapixel','weight(g)','Android','EMUI','Tizen','iOS','Huawei','LG','Xiaomi','Sony','Oppo','Samsung','Lenovo','Apple','Google','Honor','Realme','OnePlus','Vivo']].corr()\n",
    "for x,y in correlation_matrix['price(USD)'].items():\n",
    "    if y>0.3:\n",
    "        print(x,y)"
   ]
  },
  {
   "cell_type": "markdown",
   "id": "9a9eedac",
   "metadata": {},
   "source": [
    "We can consider megapixels _as weak positive correlation"
   ]
  },
  {
   "cell_type": "code",
   "execution_count": 711,
   "id": "5aa8372e",
   "metadata": {},
   "outputs": [
    {
     "data": {
      "text/plain": [
       "<AxesSubplot:>"
      ]
     },
     "execution_count": 711,
     "metadata": {},
     "output_type": "execute_result"
    },
    {
     "data": {
      "image/png": "[encoded data removed]",
      "text/plain": [
       "<Figure size 432x288 with 2 Axes>"
      ]
     },
     "metadata": {
      "needs_background": "light"
     },
     "output_type": "display_data"
    }
   ],
   "source": [
    "sns.heatmap(correlation_matrix, linewidths=0.01)\n"
   ]
  },
  {
   "cell_type": "markdown",
   "id": "2b0ad3f8",
   "metadata": {},
   "source": [
    "### The only correlation that we may consider as a weak positive one is megapixels, or in other words, the quality of the screen. We have a neutral correlation with other features. However, this is only linear correlation, so there's a chance that while building a model, we would find non-linear correlations."
   ]
  },
  {
   "cell_type": "markdown",
   "id": "5e227703",
   "metadata": {},
   "source": [
    "### 4. Can We Predict Prices Using Machine Learning Techniques like RainForestRegression?"
   ]
  },
  {
   "cell_type": "code",
   "execution_count": 712,
   "id": "6a1f0569",
   "metadata": {},
   "outputs": [
    {
     "data": {
      "text/html": [
       "<div>\n",
       "<style scoped>\n",
       "    .dataframe tbody tr th:only-of-type {\n",
       "        vertical-align: middle;\n",
       "    }\n",
       "\n",
       "    .dataframe tbody tr th {\n",
       "        vertical-align: top;\n",
       "    }\n",
       "\n",
       "    .dataframe thead th {\n",
       "        text-align: right;\n",
       "    }\n",
       "</style>\n",
       "<table border=\"1\" class=\"dataframe\">\n",
       "  <thead>\n",
       "    <tr style=\"text-align: right;\">\n",
       "      <th></th>\n",
       "      <th>inches</th>\n",
       "      <th>battery</th>\n",
       "      <th>ram(GB)</th>\n",
       "      <th>video_240fps</th>\n",
       "      <th>video_480fps</th>\n",
       "      <th>video_960fps</th>\n",
       "      <th>price(USD)</th>\n",
       "      <th>year</th>\n",
       "      <th>megapixel</th>\n",
       "      <th>weight(g)</th>\n",
       "      <th>...</th>\n",
       "      <th>Sony</th>\n",
       "      <th>Oppo</th>\n",
       "      <th>Samsung</th>\n",
       "      <th>Lenovo</th>\n",
       "      <th>Apple</th>\n",
       "      <th>Google</th>\n",
       "      <th>Honor</th>\n",
       "      <th>Realme</th>\n",
       "      <th>OnePlus</th>\n",
       "      <th>Vivo</th>\n",
       "    </tr>\n",
       "  </thead>\n",
       "  <tbody>\n",
       "    <tr>\n",
       "      <th>0</th>\n",
       "      <td>5.00</td>\n",
       "      <td>2200</td>\n",
       "      <td>2</td>\n",
       "      <td>0</td>\n",
       "      <td>0</td>\n",
       "      <td>0</td>\n",
       "      <td>120.000</td>\n",
       "      <td>2016</td>\n",
       "      <td>0.92160</td>\n",
       "      <td>140.0</td>\n",
       "      <td>...</td>\n",
       "      <td>0</td>\n",
       "      <td>0</td>\n",
       "      <td>0</td>\n",
       "      <td>0</td>\n",
       "      <td>0</td>\n",
       "      <td>0</td>\n",
       "      <td>0</td>\n",
       "      <td>0</td>\n",
       "      <td>0</td>\n",
       "      <td>0</td>\n",
       "    </tr>\n",
       "    <tr>\n",
       "      <th>1</th>\n",
       "      <td>5.30</td>\n",
       "      <td>2700</td>\n",
       "      <td>2</td>\n",
       "      <td>0</td>\n",
       "      <td>0</td>\n",
       "      <td>0</td>\n",
       "      <td>100.000</td>\n",
       "      <td>2016</td>\n",
       "      <td>0.92160</td>\n",
       "      <td>140.0</td>\n",
       "      <td>...</td>\n",
       "      <td>0</td>\n",
       "      <td>0</td>\n",
       "      <td>0</td>\n",
       "      <td>0</td>\n",
       "      <td>0</td>\n",
       "      <td>0</td>\n",
       "      <td>0</td>\n",
       "      <td>0</td>\n",
       "      <td>0</td>\n",
       "      <td>0</td>\n",
       "    </tr>\n",
       "    <tr>\n",
       "      <th>2</th>\n",
       "      <td>5.20</td>\n",
       "      <td>3000</td>\n",
       "      <td>4</td>\n",
       "      <td>0</td>\n",
       "      <td>0</td>\n",
       "      <td>0</td>\n",
       "      <td>420.000</td>\n",
       "      <td>2017</td>\n",
       "      <td>2.07360</td>\n",
       "      <td>147.0</td>\n",
       "      <td>...</td>\n",
       "      <td>0</td>\n",
       "      <td>0</td>\n",
       "      <td>0</td>\n",
       "      <td>0</td>\n",
       "      <td>0</td>\n",
       "      <td>0</td>\n",
       "      <td>0</td>\n",
       "      <td>0</td>\n",
       "      <td>0</td>\n",
       "      <td>0</td>\n",
       "    </tr>\n",
       "    <tr>\n",
       "      <th>3</th>\n",
       "      <td>5.50</td>\n",
       "      <td>4100</td>\n",
       "      <td>4</td>\n",
       "      <td>0</td>\n",
       "      <td>0</td>\n",
       "      <td>0</td>\n",
       "      <td>150.000</td>\n",
       "      <td>2017</td>\n",
       "      <td>2.07360</td>\n",
       "      <td>165.0</td>\n",
       "      <td>...</td>\n",
       "      <td>0</td>\n",
       "      <td>0</td>\n",
       "      <td>0</td>\n",
       "      <td>0</td>\n",
       "      <td>0</td>\n",
       "      <td>0</td>\n",
       "      <td>0</td>\n",
       "      <td>0</td>\n",
       "      <td>0</td>\n",
       "      <td>0</td>\n",
       "    </tr>\n",
       "    <tr>\n",
       "      <th>4</th>\n",
       "      <td>5.10</td>\n",
       "      <td>3200</td>\n",
       "      <td>4</td>\n",
       "      <td>0</td>\n",
       "      <td>0</td>\n",
       "      <td>0</td>\n",
       "      <td>420.000</td>\n",
       "      <td>2017</td>\n",
       "      <td>2.07360</td>\n",
       "      <td>145.0</td>\n",
       "      <td>...</td>\n",
       "      <td>0</td>\n",
       "      <td>0</td>\n",
       "      <td>0</td>\n",
       "      <td>0</td>\n",
       "      <td>0</td>\n",
       "      <td>0</td>\n",
       "      <td>0</td>\n",
       "      <td>0</td>\n",
       "      <td>0</td>\n",
       "      <td>0</td>\n",
       "    </tr>\n",
       "    <tr>\n",
       "      <th>...</th>\n",
       "      <td>...</td>\n",
       "      <td>...</td>\n",
       "      <td>...</td>\n",
       "      <td>...</td>\n",
       "      <td>...</td>\n",
       "      <td>...</td>\n",
       "      <td>...</td>\n",
       "      <td>...</td>\n",
       "      <td>...</td>\n",
       "      <td>...</td>\n",
       "      <td>...</td>\n",
       "      <td>...</td>\n",
       "      <td>...</td>\n",
       "      <td>...</td>\n",
       "      <td>...</td>\n",
       "      <td>...</td>\n",
       "      <td>...</td>\n",
       "      <td>...</td>\n",
       "      <td>...</td>\n",
       "      <td>...</td>\n",
       "      <td>...</td>\n",
       "    </tr>\n",
       "    <tr>\n",
       "      <th>1507</th>\n",
       "      <td>6.64</td>\n",
       "      <td>5000</td>\n",
       "      <td>8</td>\n",
       "      <td>0</td>\n",
       "      <td>0</td>\n",
       "      <td>0</td>\n",
       "      <td>170.000</td>\n",
       "      <td>2023</td>\n",
       "      <td>2.57904</td>\n",
       "      <td>190.0</td>\n",
       "      <td>...</td>\n",
       "      <td>0</td>\n",
       "      <td>0</td>\n",
       "      <td>0</td>\n",
       "      <td>0</td>\n",
       "      <td>0</td>\n",
       "      <td>0</td>\n",
       "      <td>0</td>\n",
       "      <td>0</td>\n",
       "      <td>0</td>\n",
       "      <td>1</td>\n",
       "    </tr>\n",
       "    <tr>\n",
       "      <th>1508</th>\n",
       "      <td>6.72</td>\n",
       "      <td>5000</td>\n",
       "      <td>8</td>\n",
       "      <td>0</td>\n",
       "      <td>0</td>\n",
       "      <td>0</td>\n",
       "      <td>182.880</td>\n",
       "      <td>2023</td>\n",
       "      <td>2.59200</td>\n",
       "      <td>190.0</td>\n",
       "      <td>...</td>\n",
       "      <td>0</td>\n",
       "      <td>0</td>\n",
       "      <td>0</td>\n",
       "      <td>0</td>\n",
       "      <td>0</td>\n",
       "      <td>0</td>\n",
       "      <td>0</td>\n",
       "      <td>1</td>\n",
       "      <td>0</td>\n",
       "      <td>0</td>\n",
       "    </tr>\n",
       "    <tr>\n",
       "      <th>1509</th>\n",
       "      <td>6.74</td>\n",
       "      <td>5240</td>\n",
       "      <td>16</td>\n",
       "      <td>0</td>\n",
       "      <td>0</td>\n",
       "      <td>0</td>\n",
       "      <td>380.000</td>\n",
       "      <td>2023</td>\n",
       "      <td>3.43728</td>\n",
       "      <td>205.0</td>\n",
       "      <td>...</td>\n",
       "      <td>0</td>\n",
       "      <td>0</td>\n",
       "      <td>0</td>\n",
       "      <td>0</td>\n",
       "      <td>0</td>\n",
       "      <td>0</td>\n",
       "      <td>0</td>\n",
       "      <td>1</td>\n",
       "      <td>0</td>\n",
       "      <td>0</td>\n",
       "    </tr>\n",
       "    <tr>\n",
       "      <th>1510</th>\n",
       "      <td>6.74</td>\n",
       "      <td>4600</td>\n",
       "      <td>24</td>\n",
       "      <td>0</td>\n",
       "      <td>0</td>\n",
       "      <td>0</td>\n",
       "      <td>470.000</td>\n",
       "      <td>2023</td>\n",
       "      <td>3.43728</td>\n",
       "      <td>205.0</td>\n",
       "      <td>...</td>\n",
       "      <td>0</td>\n",
       "      <td>0</td>\n",
       "      <td>0</td>\n",
       "      <td>0</td>\n",
       "      <td>0</td>\n",
       "      <td>0</td>\n",
       "      <td>0</td>\n",
       "      <td>1</td>\n",
       "      <td>0</td>\n",
       "      <td>0</td>\n",
       "    </tr>\n",
       "    <tr>\n",
       "      <th>1511</th>\n",
       "      <td>6.78</td>\n",
       "      <td>4600</td>\n",
       "      <td>8</td>\n",
       "      <td>0</td>\n",
       "      <td>0</td>\n",
       "      <td>0</td>\n",
       "      <td>287.988</td>\n",
       "      <td>2023</td>\n",
       "      <td>2.59200</td>\n",
       "      <td>175.0</td>\n",
       "      <td>...</td>\n",
       "      <td>0</td>\n",
       "      <td>0</td>\n",
       "      <td>0</td>\n",
       "      <td>0</td>\n",
       "      <td>0</td>\n",
       "      <td>0</td>\n",
       "      <td>0</td>\n",
       "      <td>0</td>\n",
       "      <td>0</td>\n",
       "      <td>1</td>\n",
       "    </tr>\n",
       "  </tbody>\n",
       "</table>\n",
       "<p>1512 rows × 27 columns</p>\n",
       "</div>"
      ],
      "text/plain": [
       "      inches  battery  ram(GB)  video_240fps  video_480fps  video_960fps  \\\n",
       "0       5.00     2200        2             0             0             0   \n",
       "1       5.30     2700        2             0             0             0   \n",
       "2       5.20     3000        4             0             0             0   \n",
       "3       5.50     4100        4             0             0             0   \n",
       "4       5.10     3200        4             0             0             0   \n",
       "...      ...      ...      ...           ...           ...           ...   \n",
       "1507    6.64     5000        8             0             0             0   \n",
       "1508    6.72     5000        8             0             0             0   \n",
       "1509    6.74     5240       16             0             0             0   \n",
       "1510    6.74     4600       24             0             0             0   \n",
       "1511    6.78     4600        8             0             0             0   \n",
       "\n",
       "      price(USD)  year  megapixel  weight(g)  ...  Sony  Oppo  Samsung  \\\n",
       "0        120.000  2016    0.92160      140.0  ...     0     0        0   \n",
       "1        100.000  2016    0.92160      140.0  ...     0     0        0   \n",
       "2        420.000  2017    2.07360      147.0  ...     0     0        0   \n",
       "3        150.000  2017    2.07360      165.0  ...     0     0        0   \n",
       "4        420.000  2017    2.07360      145.0  ...     0     0        0   \n",
       "...          ...   ...        ...        ...  ...   ...   ...      ...   \n",
       "1507     170.000  2023    2.57904      190.0  ...     0     0        0   \n",
       "1508     182.880  2023    2.59200      190.0  ...     0     0        0   \n",
       "1509     380.000  2023    3.43728      205.0  ...     0     0        0   \n",
       "1510     470.000  2023    3.43728      205.0  ...     0     0        0   \n",
       "1511     287.988  2023    2.59200      175.0  ...     0     0        0   \n",
       "\n",
       "      Lenovo  Apple  Google  Honor  Realme  OnePlus  Vivo  \n",
       "0          0      0       0      0       0        0     0  \n",
       "1          0      0       0      0       0        0     0  \n",
       "2          0      0       0      0       0        0     0  \n",
       "3          0      0       0      0       0        0     0  \n",
       "4          0      0       0      0       0        0     0  \n",
       "...      ...    ...     ...    ...     ...      ...   ...  \n",
       "1507       0      0       0      0       0        0     1  \n",
       "1508       0      0       0      0       1        0     0  \n",
       "1509       0      0       0      0       1        0     0  \n",
       "1510       0      0       0      0       1        0     0  \n",
       "1511       0      0       0      0       0        0     1  \n",
       "\n",
       "[1512 rows x 27 columns]"
      ]
     },
     "execution_count": 712,
     "metadata": {},
     "output_type": "execute_result"
    }
   ],
   "source": [
    "#choosing feature to build a model\n",
    "using_data=phone_base[['inches','battery','ram(GB)','video_240fps','video_480fps','video_960fps','price(USD)','year','megapixel','weight(g)','Android','EMUI','Tizen','iOS','Huawei','LG','Xiaomi','Sony','Oppo','Samsung','Lenovo','Apple','Google','Honor','Realme','OnePlus','Vivo']]\n",
    "using_data"
   ]
  },
  {
   "cell_type": "code",
   "execution_count": 713,
   "id": "4893abb4",
   "metadata": {},
   "outputs": [],
   "source": [
    "#choosing target and features\n",
    "X = using_data.drop('price(USD)', axis=1)\n",
    "y = using_data['price(USD)']"
   ]
  },
  {
   "cell_type": "code",
   "execution_count": 714,
   "id": "8acec229",
   "metadata": {},
   "outputs": [],
   "source": [
    "#split data on training and test\n",
    "X_train, X_test, y_train, y_test = train_test_split(X, y, test_size=0.2, random_state=42)\n",
    "model = RandomForestRegressor(n_estimators=100)\n",
    "model.fit(X_train, y_train)\n",
    "y_pred = model.predict(X_test)\n"
   ]
  },
  {
   "cell_type": "code",
   "execution_count": 715,
   "id": "bcc3f42d",
   "metadata": {},
   "outputs": [
    {
     "name": "stdout",
     "output_type": "stream",
     "text": [
      "Training X Shape: (1209, 26)\n",
      "Training y Shape: (1209,)\n",
      "Testing X Shape: (303, 26)\n",
      "Testing y Shape: (303,)\n"
     ]
    }
   ],
   "source": [
    "print('Training X Shape:', X_train.shape)\n",
    "print('Training y Shape:', y_train.shape)\n",
    "print('Testing X Shape:', X_test.shape)\n",
    "print('Testing y Shape:', y_test.shape)\n"
   ]
  },
  {
   "cell_type": "code",
   "execution_count": 716,
   "id": "b0d1cd1f",
   "metadata": {},
   "outputs": [
    {
     "name": "stdout",
     "output_type": "stream",
     "text": [
      "Mean Squared Error: 58582.23\n"
     ]
    },
    {
     "data": {
      "text/plain": [
       "0.5069019683517022"
      ]
     },
     "execution_count": 716,
     "metadata": {},
     "output_type": "execute_result"
    }
   ],
   "source": [
    "\n",
    "# For RainForest regression mse\n",
    "mse = mean_squared_error(y_test, y_pred)\n",
    "print(f'Mean Squared Error: {mse:.2f}')\n",
    "\n",
    "errors = abs((y_pred  - y_test)/y_test)\n",
    "sum(errors)/y_test.shape[0]"
   ]
  },
  {
   "cell_type": "code",
   "execution_count": 717,
   "id": "fb0f8d02",
   "metadata": {},
   "outputs": [],
   "source": [
    "#trying to improve our model by increasing n_estimators\n",
    "X1_train, X1_test, y1_train, y1_test = train_test_split(X, y, test_size=0.20, random_state=42)\n",
    "model1 = RandomForestRegressor(n_estimators=200)\n",
    "model.fit(X1_train, y1_train)\n",
    "y1_pred = model.predict(X1_test)"
   ]
  },
  {
   "cell_type": "code",
   "execution_count": 718,
   "id": "14244840",
   "metadata": {},
   "outputs": [
    {
     "name": "stdout",
     "output_type": "stream",
     "text": [
      "Mean Squared Error: 60167.61\n"
     ]
    },
    {
     "data": {
      "text/plain": [
       "0.5102153140984057"
      ]
     },
     "execution_count": 718,
     "metadata": {},
     "output_type": "execute_result"
    }
   ],
   "source": [
    "# For RainForest regression mse\n",
    "mse = mean_squared_error(y1_test, y1_pred)\n",
    "print(f'Mean Squared Error: {mse:.2f}')\n",
    "errors = abs((y1_pred  - y1_test)/y1_test)\n",
    "sum(errors)/y1_test.shape[0]"
   ]
  },
  {
   "cell_type": "markdown",
   "id": "c7e6a2e4",
   "metadata": {},
   "source": [
    "## Improving the model"
   ]
  },
  {
   "cell_type": "code",
   "execution_count": 720,
   "id": "d3a989b5",
   "metadata": {},
   "outputs": [
    {
     "data": {
      "text/plain": [
       "337.84703571428605"
      ]
     },
     "execution_count": 720,
     "metadata": {},
     "output_type": "execute_result"
    }
   ],
   "source": [
    "phone_base['price(USD)'].mean()"
   ]
  },
  {
   "cell_type": "code",
   "execution_count": 721,
   "id": "017b0cff",
   "metadata": {},
   "outputs": [
    {
     "data": {
      "text/plain": [
       "<matplotlib.collections.PathCollection at 0x282e90d30>"
      ]
     },
     "execution_count": 721,
     "metadata": {},
     "output_type": "execute_result"
    },
    {
     "data": {
      "image/png": "[encoded data removed]",
      "text/plain": [
       "<Figure size 432x288 with 1 Axes>"
      ]
     },
     "metadata": {
      "needs_background": "light"
     },
     "output_type": "display_data"
    }
   ],
   "source": [
    "plt.scatter(y_test, y_pred, c =\"blue\")"
   ]
  },
  {
   "cell_type": "markdown",
   "id": "45d8292f",
   "metadata": {},
   "source": [
    "We are going to eliminate the outlier and check our model "
   ]
  },
  {
   "cell_type": "code",
   "execution_count": 722,
   "id": "fb6e71e8",
   "metadata": {},
   "outputs": [
    {
     "name": "stderr",
     "output_type": "stream",
     "text": [
      "/Users/reznichenkoanastasia/opt/anaconda3/lib/python3.9/site-packages/seaborn/distributions.py:2619: FutureWarning: `distplot` is a deprecated function and will be removed in a future version. Please adapt your code to use either `displot` (a figure-level function with similar flexibility) or `histplot` (an axes-level function for histograms).\n",
      "  warnings.warn(msg, FutureWarning)\n"
     ]
    },
    {
     "data": {
      "text/plain": [
       "<AxesSubplot:xlabel='price(USD)', ylabel='Density'>"
      ]
     },
     "execution_count": 722,
     "metadata": {},
     "output_type": "execute_result"
    },
    {
     "data": {
      "image/png": "[encoded data removed]",
      "text/plain": [
       "<Figure size 432x288 with 1 Axes>"
      ]
     },
     "metadata": {
      "needs_background": "light"
     },
     "output_type": "display_data"
    }
   ],
   "source": [
    "sns.distplot(phone_base['price(USD)'])"
   ]
  },
  {
   "cell_type": "markdown",
   "id": "180c5f6e",
   "metadata": {},
   "source": [
    "We have a few very expansive phones, that _is our ouliers.Let eliminate them and see how our model will perform"
   ]
  },
  {
   "cell_type": "code",
   "execution_count": 723,
   "id": "ae8fb7eb",
   "metadata": {},
   "outputs": [],
   "source": [
    "\n",
    "filtered_data = using_data.loc[using_data['price(USD)']<using_data['price(USD)'].quantile(0.99)]"
   ]
  },
  {
   "cell_type": "code",
   "execution_count": 724,
   "id": "f474b2a0",
   "metadata": {},
   "outputs": [
    {
     "data": {
      "text/plain": [
       "(1494, 27)"
      ]
     },
     "execution_count": 724,
     "metadata": {},
     "output_type": "execute_result"
    }
   ],
   "source": [
    "filtered_data.shape"
   ]
  },
  {
   "cell_type": "code",
   "execution_count": 725,
   "id": "65c55c02",
   "metadata": {},
   "outputs": [
    {
     "name": "stdout",
     "output_type": "stream",
     "text": [
      "Mean Squared Error: 37609.29\n"
     ]
    },
    {
     "data": {
      "text/plain": [
       "0.4376923502388554"
      ]
     },
     "execution_count": 725,
     "metadata": {},
     "output_type": "execute_result"
    }
   ],
   "source": [
    "X1 = filtered_data.drop('price(USD)', axis=1)\n",
    "y1= filtered_data['price(USD)']\n",
    "\n",
    "\n",
    "\n",
    "X2_train, X2_test, y2_train, y2_test = train_test_split(X1, y1, test_size=0.2, random_state=42)\n",
    "model = RandomForestRegressor(n_estimators=100)\n",
    "model.fit(X2_train, y2_train)\n",
    "y2_pred = model.predict(X2_test)\n",
    "\n",
    "\n",
    "\n",
    "\n",
    "# For regression\n",
    "mse = mean_squared_error(y2_test, y2_pred)\n",
    "print(f'Mean Squared Error: {mse:.2f}')\n",
    "\n",
    "errors = abs((y2_pred  - y2_test)/y2_test)\n",
    "sum(errors)/y2_test.shape[0]\n"
   ]
  },
  {
   "cell_type": "markdown",
   "id": "2328e451",
   "metadata": {},
   "source": [
    "Improving our model.Finding non-linear correlation and eliminate features that don't have correlation and just produce noise."
   ]
  },
  {
   "cell_type": "code",
   "execution_count": 726,
   "id": "44dbacf9",
   "metadata": {},
   "outputs": [],
   "source": [
    "#creating importances,std,feature_names \n",
    "importances =model.feature_importances_\n",
    "std = np.std([tree.feature_importances_ for tree in model.estimators_], axis=0)\n",
    "feature_names = [i for i in X]\n"
   ]
  },
  {
   "cell_type": "code",
   "execution_count": 727,
   "id": "9ade59b6",
   "metadata": {},
   "outputs": [
    {
     "data": {
      "image/png": "[encoded data removed]",
      "text/plain": [
       "<Figure size 432x288 with 1 Axes>"
      ]
     },
     "metadata": {
      "needs_background": "light"
     },
     "output_type": "display_data"
    }
   ],
   "source": [
    "#visualizating\n",
    "forest_importances = pd.Series(importances, index=feature_names)\n",
    "\n",
    "fig, ax = plt.subplots()\n",
    "forest_importances.plot.bar(yerr=std, ax=ax)\n",
    "ax.set_title(\"Feature importances using MDI\")\n",
    "ax.set_ylabel(\"Mean decrease in impurity\")\n",
    "fig.tight_layout()"
   ]
  },
  {
   "cell_type": "code",
   "execution_count": 728,
   "id": "2f7d54b0",
   "metadata": {},
   "outputs": [],
   "source": [
    "impr_data=phone_base[['inches','battery','ram(GB)','video_240fps','video_480fps','video_960fps','price(USD)','year','megapixel','weight(g)','Huawei','LG','Xiaomi','Sony','Oppo','Samsung','Lenovo','Apple','Google','Honor','Realme','OnePlus','Vivo']]"
   ]
  },
  {
   "cell_type": "code",
   "execution_count": 729,
   "id": "59ed0083",
   "metadata": {},
   "outputs": [],
   "source": [
    "improve = impr_data.loc[impr_data['price(USD)']<impr_data['price(USD)'].quantile(0.99)]"
   ]
  },
  {
   "cell_type": "code",
   "execution_count": null,
   "id": "b6ffd628",
   "metadata": {},
   "outputs": [],
   "source": [
    "X2 = improve.drop('price(USD)', axis=1)\n",
    "y2 = improve['price(USD)']\n",
    "\n",
    "\n",
    "\n",
    "X3_train, X3_test, y3_train, y3_test = train_test_split(X2, y2, test_size=0.2, random_state=42)\n",
    "model = RandomForestRegressor(n_estimators=10000 )\n",
    "model.fit(X3_train, y3_train)\n",
    "y3_pred = model.predict(X3_test)\n",
    "\n",
    "\n",
    "\n",
    "\n",
    "# For regression\n",
    "mse = mean_squared_error(y3_test, y3_pred)\n",
    "print(f'Mean Squared Error: {mse:.2f}')\n",
    "\n",
    "errors = abs((y3_pred  - y3_test)/y3_test)\n",
    "sum(errors)/y3_test.shape[0]\n"
   ]
  },
  {
   "cell_type": "markdown",
   "id": "d680990e",
   "metadata": {},
   "source": [
    "### First of all we found that weight has very good non-linear correlation with the price.And after improving over model, we can say that we can predict the price of the phone based on it's feutures."
   ]
  },
  {
   "cell_type": "code",
   "execution_count": null,
   "id": "d017d646",
   "metadata": {},
   "outputs": [],
   "source": []
  }
 ],
 "metadata": {
  "kernelspec": {
   "display_name": "Python 3 (ipykernel)",
   "language": "python",
   "name": "python3"
  },
  "language_info": {
   "codemirror_mode": {
    "name": "ipython",
    "version": 3
   },
   "file_extension": ".py",
   "mimetype": "text/x-python",
   "name": "python",
   "nbconvert_exporter": "python",
   "pygments_lexer": "ipython3",
   "version": "3.9.12"
  }
 },
 "nbformat": 4,
 "nbformat_minor": 5
}
